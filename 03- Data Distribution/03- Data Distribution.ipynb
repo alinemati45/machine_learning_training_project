{
 "cells": [
  {
   "cell_type": "markdown",
   "metadata": {},
   "source": [
    "Create an array containing 250 random floats between 0 and 5:\n",
    "To create big data sets for testing, we use the Python module NumPy, which comes with a number of methods to create random data sets, of any size.\n",
    "\n"
   ]
  },
  {
   "cell_type": "code",
   "execution_count": 1,
   "metadata": {},
   "outputs": [
    {
     "name": "stdout",
     "output_type": "stream",
     "text": [
      "[0.06210019 1.31804141 0.06744331 0.66787731 2.84217713 3.72881008\n",
      " 3.46815463 2.78375992 1.39031884 2.72886313 2.14771439 4.83561274\n",
      " 3.32561112 3.98496151 3.77601872 2.72086159 1.78383509 4.78430771\n",
      " 2.63629134 4.3917987  1.41328334 3.40328768 2.35576839 0.70600716\n",
      " 2.19345417 4.14341758 0.3777813  1.35650665 3.74410506 3.04871445\n",
      " 0.69821146 4.05525915 0.53489974 4.28229177 1.1024493  4.16123459\n",
      " 1.11546136 1.07329303 2.39226857 1.09762023 0.40933156 4.90462336\n",
      " 3.31787899 3.07506714 4.55180258 4.98644324 3.46210551 3.60644728\n",
      " 3.23693228 4.83610144 0.13251563 3.09360878 4.93980312 2.80800255\n",
      " 4.72382125 2.69653459 0.62438773 3.1593549  3.24893736 1.53906703\n",
      " 4.32930746 3.14986948 0.91033424 4.27165055 4.2536511  4.89237709\n",
      " 2.03456968 3.03810335 2.93788263 3.58813994 2.24872056 4.47124391\n",
      " 3.10941321 0.78799075 0.05205477 4.07654988 2.09847593 0.01811672\n",
      " 2.74210305 0.40297081 2.0006743  3.85545729 3.80584564 4.02979598\n",
      " 3.42720913 4.76143101 2.45166284 0.46446928 1.06084803 1.867173\n",
      " 2.05679308 2.7774926  4.62610593 3.77930158 1.06644788 2.29256718\n",
      " 4.60588221 4.14430226 0.71019591 4.73836956 0.34737626 4.94343342\n",
      " 2.2971067  4.31241901 1.767574   0.6454425  0.13200835 4.72099469\n",
      " 3.92760075 1.28138453 4.70297933 1.49564297 2.36884414 4.89233671\n",
      " 3.57788455 2.0073495  1.59103053 1.07498799 1.19206524 3.87030918\n",
      " 1.38430909 3.50595013 0.60436109 1.59384597 1.73561331 2.65480873\n",
      " 3.873976   1.52886243 1.08934324 4.4228669  2.64339061 3.055627\n",
      " 4.60575962 1.56433077 4.21333664 1.41264358 2.54403618 1.30260885\n",
      " 3.61372881 3.29748812 1.23062379 3.04100315 3.97497731 0.65532491\n",
      " 3.16171246 3.50315625 3.14485919 3.75670666 4.02007092 2.0356538\n",
      " 0.73200739 4.81920237 3.87425881 2.78829799 4.70248368 0.46032821\n",
      " 3.22040293 4.29385997 3.56587166 2.65128248 2.20070193 2.58602042\n",
      " 0.52159081 2.49911662 1.16552335 4.02812852 1.49903704 4.55613408\n",
      " 1.73916381 1.52353683 2.13758202 3.17636699 4.06428368 4.41106551\n",
      " 0.28294103 0.94953679 0.92578835 2.04536525 4.50466418 2.65249305\n",
      " 1.76532523 1.3561771  3.61841808 4.95557034 2.85939624 4.66685088\n",
      " 0.61041308 2.82583317 0.97981423 2.49829003 1.35347429 2.85418316\n",
      " 3.63142196 2.39456154 3.01073848 4.8995466  2.66331589 2.53702757\n",
      " 3.24612068 0.55415078 2.38125703 0.70920823 4.89970073 1.03664214\n",
      " 3.43874632 2.93040848 0.44846215 3.79665521 3.05922102 1.46764171\n",
      " 4.21793154 2.9351999  2.47974435 4.94504202 2.94945451 1.27999038\n",
      " 1.66306386 2.62214847 2.93357224 0.67554653 3.25074197 0.48773738\n",
      " 2.35044106 2.17379146 4.2643185  3.36769134 4.78423665 2.54053564\n",
      " 0.5712545  3.90822082 2.22813382 4.29307086 0.94484361 0.62616228\n",
      " 4.98316044 3.91368089 4.92753389 4.41842258 2.63796354 2.56228864\n",
      " 3.05839996 2.38780205 1.90034813 3.33617645 0.26856163 4.54003908\n",
      " 2.64196534 4.70074012 1.56495493 0.89372649]\n"
     ]
    }
   ],
   "source": [
    "\n",
    "import numpy\n",
    "\n",
    "x = numpy.random.uniform(0.0, 5.0, 250)\n",
    "\n",
    "print(x)"
   ]
  },
  {
   "cell_type": "markdown",
   "metadata": {},
   "source": [
    "show data in Histogram"
   ]
  },
  {
   "cell_type": "code",
   "execution_count": 3,
   "metadata": {},
   "outputs": [
    {
     "data": {
      "image/png": "[encoded data removed]",
      "text/plain": [
       "<Figure size 432x288 with 1 Axes>"
      ]
     },
     "metadata": {
      "needs_background": "light"
     },
     "output_type": "display_data"
    }
   ],
   "source": [
    "import matplotlib.pyplot as plt\n",
    "\n",
    "plt.hist(x, 5)\n",
    "plt.show()"
   ]
  },
  {
   "cell_type": "raw",
   "metadata": {},
   "source": [
    "We use the array from the example above to draw a histogram with 5 bars.\n",
    "\n",
    "The first bar represents how many values in the array are between 0 and 1.\n",
    "\n",
    "The second bar represents how many values are between 1 and 2.\n",
    "\n",
    "Which gives us this result:\n",
    "\n",
    "52 values are between 0 and 1\n",
    "48 values are between 1 and 2\n",
    "49 values are between 2 and 3\n",
    "51 values are between 3 and 4\n",
    "50 values are between 4 and 5"
   ]
  },
  {
   "cell_type": "code",
   "execution_count": 4,
   "metadata": {},
   "outputs": [
    {
     "data": {
      "image/png": "[encoded data removed]",
      "text/plain": [
       "<Figure size 432x288 with 1 Axes>"
      ]
     },
     "metadata": {
      "needs_background": "light"
     },
     "output_type": "display_data"
    }
   ],
   "source": [
    "import numpy\n",
    "import matplotlib.pyplot as plt\n",
    "\n",
    "x = numpy.random.uniform(0.0, 5.0, 100000)\n",
    "\n",
    "plt.hist(x, 100)\n",
    "plt.show()"
   ]
  },
  {
   "cell_type": "code",
   "execution_count": null,
   "metadata": {},
   "outputs": [],
   "source": []
  }
 ],
 "metadata": {
  "kernelspec": {
   "display_name": "Python 3",
   "language": "python",
   "name": "python3"
  },
  "language_info": {
   "codemirror_mode": {
    "name": "ipython",
    "version": 3
   },
   "file_extension": ".py",
   "mimetype": "text/x-python",
   "name": "python",
   "nbconvert_exporter": "python",
   "pygments_lexer": "ipython3",
   "version": "3.7.6"
  }
 },
 "nbformat": 4,
 "nbformat_minor": 4
}

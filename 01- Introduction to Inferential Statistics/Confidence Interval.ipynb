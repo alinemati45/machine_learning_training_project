{
 "cells": [
  {
   "cell_type": "code",
   "execution_count": 1,
   "metadata": {
    "colab": {},
    "colab_type": "code",
    "id": "6vWSpbXxl4Cm"
   },
   "outputs": [],
   "source": [
    "import numpy as np"
   ]
  },
  {
   "cell_type": "code",
   "execution_count": 2,
   "metadata": {
    "colab": {},
    "colab_type": "code",
    "id": "J9_2sMN7l45p"
   },
   "outputs": [],
   "source": [
    "population = [1]*60 + [2]*30 + [3]*75 + [4]*85 + [5]*11 + [6]*25"
   ]
  },
  {
   "cell_type": "markdown",
   "metadata": {
    "colab_type": "text",
    "id": "LP6lojt4l75a"
   },
   "source": [
    "# Population distribution"
   ]
  },
  {
   "cell_type": "code",
   "execution_count": 3,
   "metadata": {
    "colab": {
     "base_uri": "https://localhost:8080/",
     "height": 265
    },
    "colab_type": "code",
    "executionInfo": {
     "elapsed": 1087,
     "status": "ok",
     "timestamp": 1572328587349,
     "user": {
      "displayName": "Omkar Raikar",
      "photoUrl": "https://lh3.googleusercontent.com/a-/AAuE7mCRC07suuHR2jfbDWUk7Y1atlDIxrYLeabl-bOyVA=s64",
      "userId": "10262375525869430778"
     },
     "user_tz": -330
    },
    "id": "Rd1UrkC0l6aY",
    "outputId": "064aa387-9538-402f-ba9a-add29ece17b3"
   },
   "outputs": [
    {
     "data": {
      "image/png": "[encoded data removed]",
      "text/plain": [
       "<Figure size 432x288 with 1 Axes>"
      ]
     },
     "metadata": {
      "needs_background": "light"
     },
     "output_type": "display_data"
    }
   ],
   "source": [
    "import matplotlib.pyplot as plt\n",
    "plt.hist(population, range=(0,10))\n",
    "plt.show()"
   ]
  },
  {
   "cell_type": "code",
   "execution_count": 4,
   "metadata": {
    "colab": {
     "base_uri": "https://localhost:8080/",
     "height": 51
    },
    "colab_type": "code",
    "executionInfo": {
     "elapsed": 760,
     "status": "ok",
     "timestamp": 1572328589949,
     "user": {
      "displayName": "Omkar Raikar",
      "photoUrl": "https://lh3.googleusercontent.com/a-/AAuE7mCRC07suuHR2jfbDWUk7Y1atlDIxrYLeabl-bOyVA=s64",
      "userId": "10262375525869430778"
     },
     "user_tz": -330
    },
    "id": "qRCmjqsBmAl9",
    "outputId": "92e1219e-2e12-4526-900c-dbbb75050c44"
   },
   "outputs": [
    {
     "name": "stdout",
     "output_type": "stream",
     "text": [
      "Mean of population  3.111888111888112\n",
      "Population size  286\n"
     ]
    }
   ],
   "source": [
    "print(\"Mean of population \",np.mean(population))\n",
    "print(\"Population size \",len(population))"
   ]
  },
  {
   "cell_type": "code",
   "execution_count": 5,
   "metadata": {
    "colab": {
     "base_uri": "https://localhost:8080/",
     "height": 265
    },
    "colab_type": "code",
    "executionInfo": {
     "elapsed": 1048,
     "status": "ok",
     "timestamp": 1572328593291,
     "user": {
      "displayName": "Omkar Raikar",
      "photoUrl": "https://lh3.googleusercontent.com/a-/AAuE7mCRC07suuHR2jfbDWUk7Y1atlDIxrYLeabl-bOyVA=s64",
      "userId": "10262375525869430778"
     },
     "user_tz": -330
    },
    "id": "U48Bm3IvKsst",
    "outputId": "4b362ab4-08c5-4eeb-db4b-17462541b5ff"
   },
   "outputs": [
    {
     "data": {
      "image/png": "[encoded data removed]",
      "text/plain": [
       "<Figure size 432x288 with 1 Axes>"
      ]
     },
     "metadata": {
      "needs_background": "light"
     },
     "output_type": "display_data"
    }
   ],
   "source": [
    "import matplotlib.pyplot as plt\n",
    "plt.hist(population, range=(0,10))\n",
    "plt.show()"
   ]
  },
  {
   "cell_type": "code",
   "execution_count": 6,
   "metadata": {
    "colab": {
     "base_uri": "https://localhost:8080/",
     "height": 52
    },
    "colab_type": "code",
    "executionInfo": {
     "elapsed": 966,
     "status": "ok",
     "timestamp": 1570501239145,
     "user": {
      "displayName": "Dharmanath PATIL",
      "photoUrl": "https://lh3.googleusercontent.com/a-/AAuE7mC6ge8KNDISjWm-FphDTvfeEhrPZkXjmizWV21HJg=s64",
      "userId": "15515686314360430415"
     },
     "user_tz": -330
    },
    "id": "IhJVrYifEwTo",
    "outputId": "177c855b-c02a-476f-ac61-b3fe37537b1e"
   },
   "outputs": [
    {
     "name": "stdout",
     "output_type": "stream",
     "text": [
      "Mean of population  3.111888111888112\n",
      "Population size  286\n"
     ]
    }
   ],
   "source": [
    "print(\"Mean of population \",np.mean(population))\n",
    "print(\"Population size \",len(population))"
   ]
  },
  {
   "cell_type": "code",
   "execution_count": 10,
   "metadata": {},
   "outputs": [],
   "source": [
    "import random\n",
    "def get_sample(population , num_selections):\n",
    "#   num_selections = 4  # 4 sample\n",
    "  return random.sample(population, num_selections)"
   ]
  },
  {
   "cell_type": "code",
   "execution_count": 11,
   "metadata": {
    "colab": {
     "base_uri": "https://localhost:8080/",
     "height": 52
    },
    "colab_type": "code",
    "executionInfo": {
     "elapsed": 820,
     "status": "ok",
     "timestamp": 1570500058617,
     "user": {
      "displayName": "Dharmanath PATIL",
      "photoUrl": "https://lh3.googleusercontent.com/a-/AAuE7mC6ge8KNDISjWm-FphDTvfeEhrPZkXjmizWV21HJg=s64",
      "userId": "15515686314360430415"
     },
     "user_tz": -330
    },
    "id": "Xzfri15_GQRz",
    "outputId": "4b6aa0dd-be85-4bc5-b0d9-f04e468e4468"
   },
   "outputs": [
    {
     "data": {
      "text/plain": [
       "[4, 3, 4, 4, 4, 2, 4, 4, 1, 3]"
      ]
     },
     "execution_count": 11,
     "metadata": {},
     "output_type": "execute_result"
    }
   ],
   "source": [
    "get_sample(population,10)"
   ]
  },
  {
   "cell_type": "code",
   "execution_count": 12,
   "metadata": {
    "colab": {
     "base_uri": "https://localhost:8080/",
     "height": 52
    },
    "colab_type": "code",
    "executionInfo": {
     "elapsed": 797,
     "status": "ok",
     "timestamp": 1570500067762,
     "user": {
      "displayName": "Dharmanath PATIL",
      "photoUrl": "https://lh3.googleusercontent.com/a-/AAuE7mC6ge8KNDISjWm-FphDTvfeEhrPZkXjmizWV21HJg=s64",
      "userId": "15515686314360430415"
     },
     "user_tz": -330
    },
    "id": "sU5bnIB-GSIc",
    "outputId": "a9b7cc1a-a439-4db4-81c8-e9740ca8086e"
   },
   "outputs": [
    {
     "data": {
      "text/plain": [
       "[4, 1, 1, 3, 5, 3, 2, 3, 2, 2, 3, 4, 2, 4, 1]"
      ]
     },
     "execution_count": 12,
     "metadata": {},
     "output_type": "execute_result"
    }
   ],
   "source": [
    "get_sample(population,15)"
   ]
  },
  {
   "cell_type": "code",
   "execution_count": null,
   "metadata": {
    "colab": {},
    "colab_type": "code",
    "id": "yx0KUd11Ggd8"
   },
   "outputs": [],
   "source": [
    "[1,1,1,1,1,1,1,1,1,1,1,1,1,1,1,,1,1,1,1,1,1,1,1,1,1,1,1,1,1,1]"
   ]
  },
  {
   "cell_type": "markdown",
   "metadata": {
    "colab_type": "text",
    "id": "39YnULKGo2yO"
   },
   "source": [
    "# Confidence Interval"
   ]
  },
  {
   "cell_type": "markdown",
   "metadata": {
    "colab_type": "text",
    "id": "6GGAYXNtmFMm"
   },
   "source": [
    "# Sample 1 integrity"
   ]
  },
  {
   "cell_type": "code",
   "execution_count": 14,
   "metadata": {
    "colab": {},
    "colab_type": "code",
    "id": "pgjtSKjAmCBN"
   },
   "outputs": [],
   "source": [
    "import random\n",
    "def get_sample(population,num_selections):\n",
    "  sample= random.sample(population, num_selections)\n",
    "  print(sample)\n",
    "  return sample"
   ]
  },
  {
   "cell_type": "code",
   "execution_count": 15,
   "metadata": {
    "colab": {
     "base_uri": "https://localhost:8080/",
     "height": 52
    },
    "colab_type": "code",
    "executionInfo": {
     "elapsed": 608,
     "status": "ok",
     "timestamp": 1570499276441,
     "user": {
      "displayName": "Dharmanath PATIL",
      "photoUrl": "https://lh3.googleusercontent.com/a-/AAuE7mC6ge8KNDISjWm-FphDTvfeEhrPZkXjmizWV21HJg=s64",
      "userId": "15515686314360430415"
     },
     "user_tz": -330
    },
    "id": "n-43vuZZmMd3",
    "outputId": "93015621-3dc3-419e-ed15-23a1c399bcd8"
   },
   "outputs": [
    {
     "name": "stdout",
     "output_type": "stream",
     "text": [
      "[1, 4, 3, 3]\n"
     ]
    },
    {
     "data": {
      "text/plain": [
       "2.75"
      ]
     },
     "execution_count": 15,
     "metadata": {},
     "output_type": "execute_result"
    }
   ],
   "source": [
    "sample1_mean = np.mean(get_sample(population,4))\n",
    "sample1_mean"
   ]
  },
  {
   "cell_type": "code",
   "execution_count": 13,
   "metadata": {
    "colab": {
     "base_uri": "https://localhost:8080/",
     "height": 87
    },
    "colab_type": "code",
    "executionInfo": {
     "elapsed": 837,
     "status": "ok",
     "timestamp": 1570458780785,
     "user": {
      "displayName": "Dharmanath PATIL",
      "photoUrl": "https://lh3.googleusercontent.com/a-/AAuE7mC6ge8KNDISjWm-FphDTvfeEhrPZkXjmizWV21HJg=s64",
      "userId": "15515686314360430415"
     },
     "user_tz": -330
    },
    "id": "9eko4XYeouGK",
    "outputId": "6863c19f-eb3c-4648-8dac-540591ffe2d1"
   },
   "outputs": [
    {
     "data": {
      "text/html": [
       "<img src='https://i0.wp.com/s3-ap-south-1.amazonaws.com/av-blog-media/wp-content/uploads/2017/01/30111025/image_11.png?resize=290%2C65&ssl=1' />\n"
      ],
      "text/plain": [
       "<IPython.core.display.HTML object>"
      ]
     },
     "metadata": {},
     "output_type": "display_data"
    }
   ],
   "source": [
    "%%html\n",
    "<img src='https://i0.wp.com/s3-ap-south-1.amazonaws.com/av-blog-media/wp-content/uploads/2017/01/30111025/image_11.png?resize=290%2C65&ssl=1' />"
   ]
  },
  {
   "cell_type": "code",
   "execution_count": 18,
   "metadata": {},
   "outputs": [
    {
     "data": {
      "text/plain": [
       "(1.4728541109819042, 3.111888111888112)"
      ]
     },
     "execution_count": 18,
     "metadata": {},
     "output_type": "execute_result"
    }
   ],
   "source": [
    "np.std(population) , np.mean(population)"
   ]
  },
  {
   "cell_type": "code",
   "execution_count": 16,
   "metadata": {
    "colab": {
     "base_uri": "https://localhost:8080/",
     "height": 34
    },
    "colab_type": "code",
    "executionInfo": {
     "elapsed": 805,
     "status": "ok",
     "timestamp": 1570499464112,
     "user": {
      "displayName": "Dharmanath PATIL",
      "photoUrl": "https://lh3.googleusercontent.com/a-/AAuE7mC6ge8KNDISjWm-FphDTvfeEhrPZkXjmizWV21HJg=s64",
      "userId": "15515686314360430415"
     },
     "user_tz": -330
    },
    "id": "O4RKDLmamYu8",
    "outputId": "4c979db9-fab5-4db2-b980-9a7d07e74c0f"
   },
   "outputs": [
    {
     "data": {
      "text/plain": [
       "(1.3066029712377338, 4.193397028762266)"
      ]
     },
     "execution_count": 16,
     "metadata": {},
     "output_type": "execute_result"
    }
   ],
   "source": [
    "# For an alpha value of 0.95 i.e 95% confidence interval, z=1.96. please refer Z table\n",
    "sample1_mean - ((1.96 * np.std(population))/np.power(4,0.5)), sample1_mean + ((1.96 * np.std(population))/np.power(4,0.5))"
   ]
  },
  {
   "cell_type": "code",
   "execution_count": 25,
   "metadata": {
    "colab": {
     "base_uri": "https://localhost:8080/",
     "height": 34
    },
    "colab_type": "code",
    "executionInfo": {
     "elapsed": 689,
     "status": "ok",
     "timestamp": 1570499559718,
     "user": {
      "displayName": "Dharmanath PATIL",
      "photoUrl": "https://lh3.googleusercontent.com/a-/AAuE7mC6ge8KNDISjWm-FphDTvfeEhrPZkXjmizWV21HJg=s64",
      "userId": "15515686314360430415"
     },
     "user_tz": -330
    },
    "id": "qUMeRx5XEWJX",
    "outputId": "e28a32d1-cb32-4300-91f3-286ceea61ef7"
   },
   "outputs": [
    {
     "data": {
      "text/plain": [
       "2.8867940575245328"
      ]
     },
     "execution_count": 25,
     "metadata": {},
     "output_type": "execute_result"
    }
   ],
   "source": [
    "4.193397028762266 - 1.3066029712377338"
   ]
  },
  {
   "cell_type": "markdown",
   "metadata": {
    "colab_type": "text",
    "id": "qwwianuXni3U"
   },
   "source": [
    "# Sample 2 integrity"
   ]
  },
  {
   "cell_type": "code",
   "execution_count": 19,
   "metadata": {
    "colab": {
     "base_uri": "https://localhost:8080/",
     "height": 52
    },
    "colab_type": "code",
    "executionInfo": {
     "elapsed": 814,
     "status": "ok",
     "timestamp": 1570499466964,
     "user": {
      "displayName": "Dharmanath PATIL",
      "photoUrl": "https://lh3.googleusercontent.com/a-/AAuE7mC6ge8KNDISjWm-FphDTvfeEhrPZkXjmizWV21HJg=s64",
      "userId": "15515686314360430415"
     },
     "user_tz": -330
    },
    "id": "Tv5Edv4VnT7B",
    "outputId": "0ed8a0e6-2813-44de-a474-f75956876cb1"
   },
   "outputs": [
    {
     "name": "stdout",
     "output_type": "stream",
     "text": [
      "[3, 4, 3, 4, 3, 4, 4, 4, 1, 3, 5, 4, 1, 1, 4, 4]\n"
     ]
    },
    {
     "data": {
      "text/plain": [
       "3.25"
      ]
     },
     "execution_count": 19,
     "metadata": {},
     "output_type": "execute_result"
    }
   ],
   "source": [
    "sample2_mean = np.mean(get_sample(population,16))\n",
    "sample2_mean"
   ]
  },
  {
   "cell_type": "code",
   "execution_count": null,
   "metadata": {},
   "outputs": [],
   "source": [
    "1.645, 1.96 ,2.576"
   ]
  },
  {
   "cell_type": "code",
   "execution_count": 20,
   "metadata": {
    "colab": {
     "base_uri": "https://localhost:8080/",
     "height": 34
    },
    "colab_type": "code",
    "executionInfo": {
     "elapsed": 783,
     "status": "ok",
     "timestamp": 1570499479749,
     "user": {
      "displayName": "Dharmanath PATIL",
      "photoUrl": "https://lh3.googleusercontent.com/a-/AAuE7mC6ge8KNDISjWm-FphDTvfeEhrPZkXjmizWV21HJg=s64",
      "userId": "15515686314360430415"
     },
     "user_tz": -330
    },
    "id": "4XimlsTLnnk0",
    "outputId": "6ac7428f-a53e-4fab-f0d1-bb7d8d8619d5"
   },
   "outputs": [
    {
     "data": {
      "text/plain": [
       "(1.8066029712377338, 4.693397028762266)"
      ]
     },
     "execution_count": 20,
     "metadata": {},
     "output_type": "execute_result"
    }
   ],
   "source": [
    "# For an alpha value of 0.95 i.e 95% confidence interval, z=1.96. please refer Z table\n",
    "sample2_mean - ((1.96 * np.std(population))/np.power(4,0.5)), sample2_mean + ((1.96 * np.std(population))/np.power(4,0.5))"
   ]
  },
  {
   "cell_type": "code",
   "execution_count": 21,
   "metadata": {
    "colab": {
     "base_uri": "https://localhost:8080/",
     "height": 34
    },
    "colab_type": "code",
    "executionInfo": {
     "elapsed": 832,
     "status": "ok",
     "timestamp": 1570499582474,
     "user": {
      "displayName": "Dharmanath PATIL",
      "photoUrl": "https://lh3.googleusercontent.com/a-/AAuE7mC6ge8KNDISjWm-FphDTvfeEhrPZkXjmizWV21HJg=s64",
      "userId": "15515686314360430415"
     },
     "user_tz": -330
    },
    "id": "8FaeihQ2EZx4",
    "outputId": "ea1987bf-096a-49c8-f033-b68c79d1f3b4"
   },
   "outputs": [
    {
     "data": {
      "text/plain": [
       "2.85545092761196"
      ]
     },
     "execution_count": 21,
     "metadata": {},
     "output_type": "execute_result"
    }
   ],
   "source": [
    "4.67772546380598-1.8222745361940202"
   ]
  },
  {
   "cell_type": "markdown",
   "metadata": {
    "colab_type": "text",
    "id": "DrY-q-Jantbt"
   },
   "source": [
    "# Sample 3 integrity"
   ]
  },
  {
   "cell_type": "code",
   "execution_count": 22,
   "metadata": {
    "colab": {
     "base_uri": "https://localhost:8080/",
     "height": 72
    },
    "colab_type": "code",
    "executionInfo": {
     "elapsed": 1004,
     "status": "ok",
     "timestamp": 1570499508624,
     "user": {
      "displayName": "Dharmanath PATIL",
      "photoUrl": "https://lh3.googleusercontent.com/a-/AAuE7mC6ge8KNDISjWm-FphDTvfeEhrPZkXjmizWV21HJg=s64",
      "userId": "15515686314360430415"
     },
     "user_tz": -330
    },
    "id": "ZWSjod8_nqma",
    "outputId": "e0b943aa-a7fd-4f2c-ec19-f39004dca9ee"
   },
   "outputs": [
    {
     "name": "stdout",
     "output_type": "stream",
     "text": [
      "[2, 3, 4, 3, 2, 3, 6, 3, 3, 4, 6, 2, 3, 3, 2, 1, 1, 1, 1, 4, 1, 1, 4, 1, 4, 4, 3, 4, 3, 1, 3, 3, 3, 5, 1, 3, 4, 3, 3, 3, 2, 5, 3, 6, 2, 4, 2, 3, 4, 4, 3, 1, 4, 1, 3, 6, 3, 5, 1, 4, 5, 4, 4, 1, 4, 3, 4, 3, 3, 1, 1, 1, 1, 2, 3, 4, 3, 2, 3, 3, 1, 4, 3, 1]\n"
     ]
    },
    {
     "data": {
      "text/plain": [
       "2.9047619047619047"
      ]
     },
     "execution_count": 22,
     "metadata": {},
     "output_type": "execute_result"
    }
   ],
   "source": [
    "sample3_mean = np.mean(get_sample(population,84))\n",
    "sample3_mean"
   ]
  },
  {
   "cell_type": "code",
   "execution_count": 23,
   "metadata": {
    "colab": {
     "base_uri": "https://localhost:8080/",
     "height": 34
    },
    "colab_type": "code",
    "executionInfo": {
     "elapsed": 763,
     "status": "ok",
     "timestamp": 1570499516334,
     "user": {
      "displayName": "Dharmanath PATIL",
      "photoUrl": "https://lh3.googleusercontent.com/a-/AAuE7mC6ge8KNDISjWm-FphDTvfeEhrPZkXjmizWV21HJg=s64",
      "userId": "15515686314360430415"
     },
     "user_tz": -330
    },
    "id": "OoxEubxnnxBp",
    "outputId": "dc2ebe17-c221-473c-8366-6a2761597290"
   },
   "outputs": [
    {
     "data": {
      "text/plain": [
       "(1.4613648759996385, 4.348158933524171)"
      ]
     },
     "execution_count": 23,
     "metadata": {},
     "output_type": "execute_result"
    }
   ],
   "source": [
    "# For an alpha value of 0.95 i.e 95% confidence interval, z=1.96. please refer Z table\n",
    "sample3_mean - ((1.96 * np.std(population))/np.power(4,0.5)), sample3_mean + ((1.96 * np.std(population))/np.power(4,0.5))"
   ]
  },
  {
   "cell_type": "code",
   "execution_count": 24,
   "metadata": {
    "colab": {
     "base_uri": "https://localhost:8080/",
     "height": 34
    },
    "colab_type": "code",
    "executionInfo": {
     "elapsed": 795,
     "status": "ok",
     "timestamp": 1570499596681,
     "user": {
      "displayName": "Dharmanath PATIL",
      "photoUrl": "https://lh3.googleusercontent.com/a-/AAuE7mC6ge8KNDISjWm-FphDTvfeEhrPZkXjmizWV21HJg=s64",
      "userId": "15515686314360430415"
     },
     "user_tz": -330
    },
    "id": "6xRQyzLcEe-S",
    "outputId": "93989b34-cfee-4885-f15a-456e4600fea1"
   },
   "outputs": [
    {
     "data": {
      "text/plain": [
       "2.886794057524532"
      ]
     },
     "execution_count": 24,
     "metadata": {},
     "output_type": "execute_result"
    }
   ],
   "source": [
    "4.348158933524171 - 1.4613648759996385"
   ]
  },
  {
   "cell_type": "code",
   "execution_count": null,
   "metadata": {
    "colab": {},
    "colab_type": "code",
    "id": "k0_mrFnen1ea"
   },
   "outputs": [],
   "source": [
    "# We can say that sample 4 represent the population very well because \n",
    "# Sample4 representing the parameter of population very well compared to any other sampples"
   ]
  }
 ],
 "metadata": {
  "colab": {
   "name": "Confidence Interval.ipynb",
   "provenance": []
  },
  "kernelspec": {
   "display_name": "Python 3.7 (tensorflow)",
   "language": "python",
   "name": "tensorflow"
  },
  "language_info": {
   "codemirror_mode": {
    "name": "ipython",
    "version": 3
   },
   "file_extension": ".py",
   "mimetype": "text/x-python",
   "name": "python",
   "nbconvert_exporter": "python",
   "pygments_lexer": "ipython3",
   "version": "3.8.5"
  }
 },
 "nbformat": 4,
 "nbformat_minor": 4
}

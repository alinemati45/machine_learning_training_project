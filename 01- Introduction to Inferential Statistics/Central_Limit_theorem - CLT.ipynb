{
 "cells": [
  {
   "cell_type": "code",
   "execution_count": 1,
   "metadata": {
    "colab": {},
    "colab_type": "code",
    "id": "TfmwDhGJUOUl"
   },
   "outputs": [],
   "source": [
    "import numpy as np"
   ]
  },
  {
   "cell_type": "code",
   "execution_count": 2,
   "metadata": {},
   "outputs": [],
   "source": [
    "# conda install numpy"
   ]
  },
  {
   "cell_type": "code",
   "execution_count": 3,
   "metadata": {
    "colab": {},
    "colab_type": "code",
    "id": "9eHIxF7eUP3b"
   },
   "outputs": [],
   "source": [
    "population = [1]*60 + [2]*30 + [3]*75 + [4]*85 + [5]*11 + [6]*25"
   ]
  },
  {
   "cell_type": "code",
   "execution_count": 5,
   "metadata": {},
   "outputs": [],
   "source": [
    "# population"
   ]
  },
  {
   "cell_type": "markdown",
   "metadata": {
    "colab_type": "text",
    "id": "M19FDwf-gR2r"
   },
   "source": [
    "# Population Distribution"
   ]
  },
  {
   "cell_type": "code",
   "execution_count": 7,
   "metadata": {},
   "outputs": [
    {
     "name": "stdout",
     "output_type": "stream",
     "text": [
      "Collecting package metadata (current_repodata.json): ...working... done\n",
      "Solving environment: ...working... done\n",
      "\n",
      "## Package Plan ##\n",
      "\n",
      "  environment location: C:\\Users\\nemat\\.conda\\envs\\tensorflow\n",
      "\n",
      "  added / updated specs:\n",
      "    - matplotlib\n",
      "\n",
      "\n",
      "The following NEW packages will be INSTALLED:\n",
      "\n",
      "  cycler             pkgs/main/win-64::cycler-0.10.0-py38_0\n",
      "  freetype           pkgs/main/win-64::freetype-2.10.2-hd328e21_0\n",
      "  icu                pkgs/main/win-64::icu-58.2-ha925a31_3\n",
      "  jpeg               pkgs/main/win-64::jpeg-9b-hb83a4c4_2\n",
      "  kiwisolver         pkgs/main/win-64::kiwisolver-1.2.0-py38h74a9793_0\n",
      "  libpng             pkgs/main/win-64::libpng-1.6.37-h2a8f88b_0\n",
      "  matplotlib         pkgs/main/win-64::matplotlib-3.2.2-0\n",
      "  matplotlib-base    pkgs/main/win-64::matplotlib-base-3.2.2-py38h64f37c6_0\n",
      "  pyqt               pkgs/main/win-64::pyqt-5.9.2-py38ha925a31_4\n",
      "  qt                 pkgs/main/win-64::qt-5.9.7-vc14h73c81de_0\n",
      "  sip                pkgs/main/win-64::sip-4.19.13-py38ha925a31_0\n",
      "\n",
      "\n",
      "Preparing transaction: ...working... done\n",
      "Verifying transaction: ...working... done\n",
      "Executing transaction: ...working... done\n",
      "\n",
      "Note: you may need to restart the kernel to use updated packages.\n"
     ]
    }
   ],
   "source": [
    "conda install matplotlib"
   ]
  },
  {
   "cell_type": "code",
   "execution_count": 8,
   "metadata": {
    "colab": {
     "base_uri": "https://localhost:8080/",
     "height": 269
    },
    "colab_type": "code",
    "id": "PZtudojjUXWx",
    "outputId": "af6299bf-5885-4de7-8495-f12e2074402d"
   },
   "outputs": [
    {
     "data": {
      "image/png": "[encoded data removed]",
      "text/plain": [
       "<Figure size 432x288 with 1 Axes>"
      ]
     },
     "metadata": {
      "needs_background": "light"
     },
     "output_type": "display_data"
    }
   ],
   "source": [
    "import matplotlib.pyplot as plt\n",
    "plt.hist(population, range=(0,10))\n",
    "plt.show()"
   ]
  },
  {
   "cell_type": "code",
   "execution_count": 9,
   "metadata": {
    "colab": {
     "base_uri": "https://localhost:8080/",
     "height": 52
    },
    "colab_type": "code",
    "id": "diyW5ML3Us8t",
    "outputId": "16a6147f-5422-4e2c-c4f1-1d7385021751"
   },
   "outputs": [
    {
     "name": "stdout",
     "output_type": "stream",
     "text": [
      "Mean of population  3.111888111888112\n",
      "Population size  286\n"
     ]
    }
   ],
   "source": [
    "print(\"Mean of population \",np.mean(population))\n",
    "print(\"Population size \",len(population))"
   ]
  },
  {
   "cell_type": "markdown",
   "metadata": {
    "colab_type": "text",
    "id": "aUckCKevgjvG"
   },
   "source": [
    "# Mean of means"
   ]
  },
  {
   "cell_type": "code",
   "execution_count": 10,
   "metadata": {
    "colab": {},
    "colab_type": "code",
    "id": "jzgPybW9ghlv"
   },
   "outputs": [],
   "source": [
    "import random\n",
    "def get_sample(population):\n",
    "  num_selections = 4  # 4 sample\n",
    "  return random.sample(population, num_selections)"
   ]
  },
  {
   "cell_type": "code",
   "execution_count": 11,
   "metadata": {
    "colab": {
     "base_uri": "https://localhost:8080/",
     "height": 52
    },
    "colab_type": "code",
    "id": "cveHwNqbg9DL",
    "outputId": "d801c74e-9b96-425e-dba3-bec68035c2d6"
   },
   "outputs": [
    {
     "name": "stdout",
     "output_type": "stream",
     "text": [
      "Sample 1: [2, 4, 1, 1]\n",
      "Mean of sample 1: 2.0\n"
     ]
    }
   ],
   "source": [
    "sample1 = get_sample(population)\n",
    "mean_sample1 = np.mean(sample1)\n",
    "print(\"Sample 1:\",sample1)\n",
    "print(\"Mean of sample 1:\",np.mean(sample1))"
   ]
  },
  {
   "cell_type": "code",
   "execution_count": 12,
   "metadata": {
    "colab": {
     "base_uri": "https://localhost:8080/",
     "height": 1000
    },
    "colab_type": "code",
    "id": "Cmu0_oGgAyoo",
    "outputId": "c467f039-1f67-48a1-ce99-8393ab1fff29"
   },
   "outputs": [
    {
     "data": {
      "text/plain": [
       "[[4, 1, 3, 2],\n",
       " [1, 2, 4, 5],\n",
       " [1, 6, 2, 3],\n",
       " [2, 1, 3, 3],\n",
       " [6, 4, 2, 3],\n",
       " [4, 1, 4, 3],\n",
       " [1, 3, 2, 2],\n",
       " [1, 1, 1, 3],\n",
       " [3, 3, 6, 1],\n",
       " [5, 1, 4, 3],\n",
       " [3, 3, 1, 2],\n",
       " [1, 4, 3, 1],\n",
       " [1, 4, 4, 3],\n",
       " [5, 1, 4, 4],\n",
       " [4, 1, 3, 3],\n",
       " [4, 5, 6, 4],\n",
       " [6, 2, 4, 6],\n",
       " [2, 3, 2, 4],\n",
       " [3, 4, 4, 2],\n",
       " [1, 3, 1, 4],\n",
       " [1, 4, 2, 3],\n",
       " [3, 4, 4, 3],\n",
       " [1, 4, 1, 1],\n",
       " [4, 4, 2, 3],\n",
       " [4, 6, 1, 4],\n",
       " [4, 3, 3, 1],\n",
       " [3, 1, 2, 3],\n",
       " [3, 6, 2, 3],\n",
       " [3, 4, 4, 4],\n",
       " [1, 4, 3, 2],\n",
       " [1, 4, 3, 4],\n",
       " [4, 4, 1, 2],\n",
       " [5, 3, 1, 5],\n",
       " [2, 6, 4, 6],\n",
       " [2, 4, 5, 1],\n",
       " [2, 4, 1, 4],\n",
       " [3, 4, 1, 1],\n",
       " [3, 2, 4, 4],\n",
       " [4, 1, 3, 4],\n",
       " [2, 1, 1, 4],\n",
       " [3, 6, 6, 1],\n",
       " [4, 3, 3, 3],\n",
       " [4, 6, 6, 2],\n",
       " [1, 4, 2, 4],\n",
       " [1, 1, 1, 3],\n",
       " [2, 4, 4, 3],\n",
       " [1, 1, 4, 5],\n",
       " [3, 3, 5, 3],\n",
       " [5, 4, 6, 4],\n",
       " [4, 4, 4, 5],\n",
       " [3, 1, 1, 4],\n",
       " [1, 4, 1, 3],\n",
       " [4, 2, 3, 1],\n",
       " [3, 1, 4, 4],\n",
       " [3, 5, 1, 5],\n",
       " [5, 5, 3, 4],\n",
       " [6, 3, 3, 4],\n",
       " [3, 4, 6, 3],\n",
       " [4, 4, 1, 4],\n",
       " [1, 1, 2, 1],\n",
       " [3, 4, 4, 3],\n",
       " [1, 3, 4, 4],\n",
       " [6, 6, 5, 1],\n",
       " [1, 4, 2, 4],\n",
       " [3, 3, 3, 2],\n",
       " [1, 6, 4, 2],\n",
       " [1, 4, 4, 3],\n",
       " [1, 5, 4, 6],\n",
       " [1, 3, 4, 1],\n",
       " [6, 4, 4, 5],\n",
       " [4, 3, 5, 3],\n",
       " [3, 1, 1, 3],\n",
       " [4, 5, 1, 2],\n",
       " [3, 4, 4, 6],\n",
       " [1, 4, 3, 3],\n",
       " [4, 1, 1, 3],\n",
       " [2, 6, 5, 4],\n",
       " [6, 2, 3, 3],\n",
       " [3, 4, 1, 3],\n",
       " [6, 1, 3, 4],\n",
       " [2, 2, 3, 3],\n",
       " [4, 2, 1, 3],\n",
       " [3, 1, 3, 1],\n",
       " [6, 6, 4, 1],\n",
       " [4, 4, 3, 3],\n",
       " [6, 3, 4, 6],\n",
       " [3, 1, 3, 2],\n",
       " [3, 1, 1, 3],\n",
       " [1, 3, 1, 6],\n",
       " [4, 4, 4, 4],\n",
       " [4, 2, 1, 1],\n",
       " [2, 4, 2, 3],\n",
       " [3, 4, 2, 4],\n",
       " [3, 3, 3, 1],\n",
       " [3, 3, 4, 2],\n",
       " [6, 4, 4, 3],\n",
       " [4, 3, 1, 4],\n",
       " [1, 4, 1, 6],\n",
       " [3, 3, 3, 1],\n",
       " [3, 3, 3, 4]]"
      ]
     },
     "execution_count": 12,
     "metadata": {},
     "output_type": "execute_result"
    }
   ],
   "source": [
    "# Selecting 100 samples sample1, sample2 ..... sample100\n",
    "[get_sample(population) for _ in range(100)]"
   ]
  },
  {
   "cell_type": "code",
   "execution_count": 13,
   "metadata": {
    "colab": {
     "base_uri": "https://localhost:8080/",
     "height": 1000
    },
    "colab_type": "code",
    "id": "KMoAzK_SA1kl",
    "outputId": "4c15d52b-ead4-4fa6-f521-0ac58d50ac51"
   },
   "outputs": [
    {
     "data": {
      "text/plain": [
       "[2.5,\n",
       " 1.75,\n",
       " 2.5,\n",
       " 4.0,\n",
       " 4.25,\n",
       " 2.75,\n",
       " 3.5,\n",
       " 3.75,\n",
       " 2.25,\n",
       " 3.75,\n",
       " 2.25,\n",
       " 3.25,\n",
       " 3.25,\n",
       " 3.0,\n",
       " 2.25,\n",
       " 3.0,\n",
       " 3.5,\n",
       " 3.0,\n",
       " 2.75,\n",
       " 2.5,\n",
       " 4.0,\n",
       " 4.25,\n",
       " 2.5,\n",
       " 3.25,\n",
       " 3.5,\n",
       " 4.0,\n",
       " 1.5,\n",
       " 1.75,\n",
       " 3.0,\n",
       " 3.75,\n",
       " 3.75,\n",
       " 2.75,\n",
       " 2.5,\n",
       " 2.5,\n",
       " 2.5,\n",
       " 3.25,\n",
       " 2.75,\n",
       " 1.75,\n",
       " 3.0,\n",
       " 3.5,\n",
       " 3.5,\n",
       " 3.25,\n",
       " 3.75,\n",
       " 3.75,\n",
       " 3.5,\n",
       " 3.5,\n",
       " 2.5,\n",
       " 3.25,\n",
       " 3.25,\n",
       " 3.0,\n",
       " 4.0,\n",
       " 2.25,\n",
       " 3.75,\n",
       " 4.0,\n",
       " 3.5,\n",
       " 3.25,\n",
       " 1.75,\n",
       " 3.5,\n",
       " 3.0,\n",
       " 4.5,\n",
       " 2.75,\n",
       " 3.5,\n",
       " 3.75,\n",
       " 3.0,\n",
       " 3.25,\n",
       " 2.0,\n",
       " 3.25,\n",
       " 3.0,\n",
       " 3.5,\n",
       " 3.25,\n",
       " 3.25,\n",
       " 3.5,\n",
       " 2.0,\n",
       " 2.0,\n",
       " 4.5,\n",
       " 2.5,\n",
       " 3.75,\n",
       " 1.75,\n",
       " 3.25,\n",
       " 2.5,\n",
       " 2.75,\n",
       " 3.5,\n",
       " 2.25,\n",
       " 4.25,\n",
       " 3.75,\n",
       " 4.25,\n",
       " 3.0,\n",
       " 3.5,\n",
       " 2.75,\n",
       " 4.25,\n",
       " 4.5,\n",
       " 3.25,\n",
       " 3.5,\n",
       " 2.5,\n",
       " 1.75,\n",
       " 3.25,\n",
       " 2.5,\n",
       " 4.0,\n",
       " 3.75,\n",
       " 4.5]"
      ]
     },
     "execution_count": 13,
     "metadata": {},
     "output_type": "execute_result"
    }
   ],
   "source": [
    "# mean of individual sample\n",
    "[np.mean(get_sample(population)) for _ in range(100)]"
   ]
  },
  {
   "cell_type": "code",
   "execution_count": 14,
   "metadata": {
    "colab": {
     "base_uri": "https://localhost:8080/",
     "height": 34
    },
    "colab_type": "code",
    "id": "_LhwoMNhg_Pa",
    "outputId": "55f9c588-9b2b-4c79-8ddd-ddcc8aa68f05"
   },
   "outputs": [
    {
     "data": {
      "text/plain": [
       "3.14"
      ]
     },
     "execution_count": 14,
     "metadata": {},
     "output_type": "execute_result"
    }
   ],
   "source": [
    "# mean of mean\n",
    "np.mean([np.mean(get_sample(population)) for _ in range(100)])"
   ]
  },
  {
   "cell_type": "code",
   "execution_count": 15,
   "metadata": {
    "colab": {},
    "colab_type": "code",
    "id": "RlaCSMGshl5c"
   },
   "outputs": [],
   "source": [
    "all_means = [np.mean(get_sample(population)) for _ in range(1000)]"
   ]
  },
  {
   "cell_type": "code",
   "execution_count": 16,
   "metadata": {
    "colab": {
     "base_uri": "https://localhost:8080/",
     "height": 338
    },
    "colab_type": "code",
    "id": "hGGMV8nbBJfs",
    "outputId": "29ef6fff-e51c-4fa1-8631-ccbbe085199f"
   },
   "outputs": [
    {
     "data": {
      "text/plain": [
       "(array([  4.,  40., 102., 227., 253., 215., 118.,  35.,   5.,   1.]),\n",
       " array([1.   , 1.475, 1.95 , 2.425, 2.9  , 3.375, 3.85 , 4.325, 4.8  ,\n",
       "        5.275, 5.75 ]),\n",
       " <a list of 10 Patch objects>)"
      ]
     },
     "execution_count": 16,
     "metadata": {},
     "output_type": "execute_result"
    },
    {
     "data": {
      "image/png": "[encoded data removed]",
      "text/plain": [
       "<Figure size 432x288 with 1 Axes>"
      ]
     },
     "metadata": {
      "needs_background": "light"
     },
     "output_type": "display_data"
    }
   ],
   "source": [
    "plt.hist(all_means)"
   ]
  }
 ],
 "metadata": {
  "colab": {
   "name": "Central Limit theorem.ipynb",
   "provenance": []
  },
  "kernelspec": {
   "display_name": "Python 3.7 (tensorflow)",
   "language": "python",
   "name": "tensorflow"
  },
  "language_info": {
   "codemirror_mode": {
    "name": "ipython",
    "version": 3
   },
   "file_extension": ".py",
   "mimetype": "text/x-python",
   "name": "python",
   "nbconvert_exporter": "python",
   "pygments_lexer": "ipython3",
   "version": "3.8.5"
  }
 },
 "nbformat": 4,
 "nbformat_minor": 4
}
